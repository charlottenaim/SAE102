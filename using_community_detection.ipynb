{
 "cells": [
  {
   "cell_type": "markdown",
   "id": "58aa2915",
   "metadata": {},
   "source": [
    "Question 2:\n",
    "Comparer théoriquement et expériementalement les fonctions `dico_reseau` et `create_network`."
   ]
  },
  {
   "cell_type": "code",
   "execution_count": 9,
   "id": "9f715856",
   "metadata": {},
   "outputs": [],
   "source": [
    "def liste_amis(amis, prenom):\n",
    "    \"\"\"\n",
    "        Retourne la liste des amis de prenom en fonction du tableau amis.\n",
    "    \"\"\"\n",
    "    prenoms_amis = []\n",
    "    i = 0\n",
    "    while i < len(amis)//2:\n",
    "        if amis[2 * i] == prenom:\n",
    "            prenoms_amis.append(amis[2*i+1])\n",
    "        elif amis[2*i+1] == prenom:\n",
    "            prenoms_amis.append(amis[2*i])\n",
    "        i += 1\n",
    "    return prenoms_amis\n",
    "\n",
    "def personnes_reseau(amis):\n",
    "    \"\"\" Retourne un tableau contenant la liste des personnes du réseau.\"\"\"\n",
    "    people = []\n",
    "    i = 0\n",
    "    while i < len(amis):\n",
    "        if amis[i] not in people:\n",
    "            people.append(amis[i])\n",
    "        i += 1\n",
    "    return people\n",
    "\n",
    "#liste d'amis\n",
    "amis = [\"Alice\", \"Bob\", \"Bob\", \"Charlie\", \"Alice\", \"Dominique\", \"Bob\", \"Dominique\"]"
   ]
  },
  {
   "cell_type": "markdown",
   "id": "e9d94729",
   "metadata": {},
   "source": [
    "La fonction dico_reseau est une fonction linéaire qui appelle deux autres fonctions linéaire dont une à chauque itération. On a donc une fonction quadratique.\n",
    "\n",
    "La fonction creare_network fait 13 opérations élémentaires à chaque itération. On a donc une fonction linéaire.\n",
    "\n",
    "Théoriquement la fonction creare_network est plus éfficace que la fonction dico_reseau."
   ]
  },
  {
   "cell_type": "code",
   "execution_count": 10,
   "id": "33d27278",
   "metadata": {},
   "outputs": [],
   "source": [
    "from time import time\n",
    "\n",
    "def dico_reseau(amis):\n",
    "    \"\"\" Retourne le dictionnaire correspondant au réseau.\"\"\"\n",
    "    temps = 0\n",
    "    start = time()\n",
    "    dico = {}\n",
    "    people = personnes_reseau(amis)\n",
    "    i = 0\n",
    "    while i < len(people):\n",
    "        dico[people[i]] = liste_amis(amis, people[i])\n",
    "        i += 1\n",
    "    stop = time()\n",
    "    temps = stop - start\n",
    "    print(\"dico-reseau mets\",round(1000*(temps),3),\"ms à s'executer\")\n",
    "    return\n",
    "\n",
    "def create_network(tab):\n",
    "    \"\"\" prend en paramètre un tableau de couples d'amis et retourne le réseau associé.\"\"\"\n",
    "    temps = 0\n",
    "    start = time()\n",
    "    \n",
    "    network = {}\n",
    "    i = 0\n",
    "    \n",
    "    while i < len(tab) - 1:\n",
    "        if tab[i] not in network:\n",
    "            network[tab[i]] = []\n",
    "            \n",
    "        if tab[i + 1] not in network[tab[i]]:\n",
    "            network[tab[i]].append(tab[i + 1])\n",
    "            \n",
    "        if tab[i + 1] not in network:\n",
    "            network[tab[i + 1]] = []\n",
    "            \n",
    "        if tab[i] not in network[tab[i + 1]]:\n",
    "            network[tab[i + 1]].append(tab[i])\n",
    "            \n",
    "        i += 2\n",
    "    stop = time()\n",
    "    temps = stop - start\n",
    "    print(\"create_network mets\",round(1000*(temps),3),\"ms à s'executer\")\n",
    "    return"
   ]
  },
  {
   "cell_type": "code",
   "execution_count": 27,
   "id": "2bfb68fc",
   "metadata": {},
   "outputs": [
    {
     "name": "stdout",
     "output_type": "stream",
     "text": [
      "dico-reseau mets 0.0 ms à s'executer\n",
      "None\n",
      "create_network mets 0.0 ms à s'executer\n",
      "None\n"
     ]
    }
   ],
   "source": [
    "print(dico_reseau(amis))\n",
    "print(create_network(amis))"
   ]
  },
  {
   "cell_type": "markdown",
   "id": "1ec248d9",
   "metadata": {},
   "source": [
    "D'après notre experimentation, la fonction create_network est 2 fois plus rapide que la fonction dico_reseau. Notre hypothèse est donc vérifiée.\n",
    "\n",
    "Question 11\n",
    "Comparer théoriquement et expérimentalement les deux heuristiques de construction, celle donnée par la fonction find_community_by_decreasing_popularity et celles donnée par la fonction find_community_from_person appliquée à une personne la plus populaire (la recherche de la personne la plus populaire sera prise en compte dans la complexité)."
   ]
  },
  {
   "cell_type": "code",
   "execution_count": 28,
   "id": "025cd50c",
   "metadata": {},
   "outputs": [],
   "source": [
    "def all_his_friends(network, person, group):\n",
    "    \"\"\"\n",
    "    prend en paramètre un réseau, une personne et un groupe de personnes.\n",
    "    retourne `True` si la personne est amie avec toutes les personnes du groupe et False sinon.\n",
    "    \"\"\"\n",
    "    liste = list(network)\n",
    "    if person not in liste:\n",
    "        return False\n",
    "\n",
    "    i = 0\n",
    "    while i < len(group):\n",
    "        if group[i] not in network[person]:\n",
    "            return False\n",
    "        i += 1\n",
    "\n",
    "    return True\n",
    "\n",
    "def create_network(tab):\n",
    "    \"\"\" prend en paramètre un tableau de couples d'amis et retourne le réseau associé.\"\"\"\n",
    "    \n",
    "    network = {}\n",
    "    i = 0\n",
    "    \n",
    "    while i < len(tab) - 1:\n",
    "        if tab[i] not in network:\n",
    "            network[tab[i]] = []\n",
    "            \n",
    "        if tab[i + 1] not in network[tab[i]]:\n",
    "            network[tab[i]].append(tab[i + 1])\n",
    "            \n",
    "        if tab[i + 1] not in network:\n",
    "            network[tab[i + 1]] = []\n",
    "            \n",
    "        if tab[i] not in network[tab[i + 1]]:\n",
    "            network[tab[i + 1]].append(tab[i])\n",
    "            \n",
    "        i += 2\n",
    "        \n",
    "    return network\n",
    "\n",
    "amis = [\"Alice\", \"Bob\", \"Bob\", \"Charlie\", \"Alice\", \"Dominique\", \"Bob\", \"Dominique\"]"
   ]
  },
  {
   "cell_type": "markdown",
   "id": "af631d5b",
   "metadata": {},
   "source": [
    "La fonction find_community_by_decreasing_popularity est une fonction quadratique qui appelle une fonction linéaire à chaque iteration. On a donc une fonction logarithmique.\n",
    "\n",
    "La fonction find_community_from_person est une fonction linéaire qui appelle une fonction linéaire à chaque iteration. On a donc une fonction quadratique.\n",
    "\n",
    "Théoriquement la fonction find_community_from_person est plus éfficace que la fonction find_community_by_decreasing_popularity."
   ]
  },
  {
   "cell_type": "code",
   "execution_count": 29,
   "id": "734204c8",
   "metadata": {},
   "outputs": [],
   "source": [
    "from time import time\n",
    "\n",
    "def find_community_by_decreasing_popularity(network):\n",
    "    '''\n",
    "    prenant en paramètre un réseau.\n",
    "    tri l'ensemble des personnes du réseau selon l'ordre décroissant de popularité.\n",
    "    retourne la communauté trouvée.\n",
    "    '''\n",
    "    temps = 0\n",
    "    start = time()\n",
    "    \n",
    "    tab = list(network)\n",
    "    comunity = []\n",
    "    i = 0\n",
    "    while i < len(tab):\n",
    "        community = []\n",
    "        community.append(tab[i])\n",
    "        y = 0\n",
    "        while y < len(tab):\n",
    "            if all_his_friends(network, tab[y], community):\n",
    "                community.append(tab[y])\n",
    "            if len(community) > len(comunity):\n",
    "                comunity = community.copy()\n",
    "            y += 1\n",
    "        i += 1\n",
    "    stop = time()\n",
    "    temps = stop - start\n",
    "    print(\"find_community_by_decreasing_popularity mets\",round(1000*(temps),3),\"ms à s'executer\")\n",
    "    return\n",
    "\n",
    "def find_community_from_person(network, person):\n",
    "    '''\n",
    "    prend en paramètre un réseau et une personne.\n",
    "    retourne une communauté maximale contenant cette personne.\n",
    "    '''\n",
    "    temps = 0\n",
    "    start = time()\n",
    "    \n",
    "    community = [person]\n",
    "    tab = list(network)\n",
    "    i = 0\n",
    "    while i < len(tab):\n",
    "        if all_his_friends(network, tab[i], community):\n",
    "            community.append(tab[i])\n",
    "        i += 1\n",
    "    stop = time()\n",
    "    temps = stop - start\n",
    "    print(\"find_community_from_person mets\",round(1000*(temps),3),\"ms à s'executer\")\n",
    "    return"
   ]
  },
  {
   "cell_type": "code",
   "execution_count": 98,
   "id": "2c65c351",
   "metadata": {},
   "outputs": [
    {
     "name": "stdout",
     "output_type": "stream",
     "text": [
      "find_community_by_decreasing_popularity mets 0.0 ms à s'executer\n",
      "None\n",
      "find_community_from_person mets 0.0 ms à s'executer\n",
      "None\n"
     ]
    }
   ],
   "source": [
    "print(find_community_by_decreasing_popularity(create_network(amis)))\n",
    "print(find_community_from_person(create_network(amis), \"Alice\"))"
   ]
  },
  {
   "cell_type": "markdown",
   "id": "5c269c67",
   "metadata": {},
   "source": [
    "D'après notre experimentation, la fonction find_community_from_person est largement plus rapide que la fonction find_community_by_decreasing_popularity. Notre hypothèse est donc vérifiée."
   ]
  }
 ],
 "metadata": {
  "kernelspec": {
   "display_name": "Python 3 (ipykernel)",
   "language": "python",
   "name": "python3"
  },
  "language_info": {
   "codemirror_mode": {
    "name": "ipython",
    "version": 3
   },
   "file_extension": ".py",
   "mimetype": "text/x-python",
   "name": "python",
   "nbconvert_exporter": "python",
   "pygments_lexer": "ipython3",
   "version": "3.9.12"
  }
 },
 "nbformat": 4,
 "nbformat_minor": 5
}
